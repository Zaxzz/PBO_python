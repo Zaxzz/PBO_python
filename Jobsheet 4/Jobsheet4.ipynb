{
  "nbformat": 4,
  "nbformat_minor": 0,
  "metadata": {
    "colab": {
      "provenance": [],
      "authorship_tag": "ABX9TyNaKVK1WAodT24kc1oS/QPM",
      "include_colab_link": true
    },
    "kernelspec": {
      "name": "python3",
      "display_name": "Python 3"
    },
    "language_info": {
      "name": "python"
    }
  },
  "cells": [
    {
      "cell_type": "markdown",
      "metadata": {
        "id": "view-in-github",
        "colab_type": "text"
      },
      "source": [
        "<a href=\"https://colab.research.google.com/github/Zaxzz/2025_PBO_TI1B/blob/main/jobsheet4.ipynb\" target=\"_parent\"><img src=\"https://colab.research.google.com/assets/colab-badge.svg\" alt=\"Open In Colab\"/></a>"
      ]
    },
    {
      "cell_type": "markdown",
      "source": [
        "# JOBSHEET 4"
      ],
      "metadata": {
        "id": "d0AAlsN7pR2n"
      }
    },
    {
      "cell_type": "markdown",
      "source": [
        "# MEMAHAMI PEWARISAN (INHERITANCE) DALAM PYTHON"
      ],
      "metadata": {
        "id": "KPeMrTQvpa2G"
      }
    },
    {
      "cell_type": "markdown",
      "source": [
        "## PRAKTIKUM 1 INHERITANCE DASAR"
      ],
      "metadata": {
        "id": "NUXc6IV6phXR"
      }
    },
    {
      "cell_type": "code",
      "source": [
        "class Kendaraan:\n",
        "  def __init__ (self, merk):\n",
        "      self.merk = merk\n",
        "  def mulai_mesin(self):\n",
        "      print(f'mesin kendaraan {self.merk} dinyalakan')\n",
        "\n",
        "class Mobil(Kendaraan):\n",
        "  def __init__ (self, merk, warna):\n",
        "      self.merk = merk\n",
        "      self.warna = warna\n",
        "  def info_mobil(self):\n",
        "      print(f'ini adalah mobil {self.merk} berwarna {self.warna}')\n",
        "\n",
        "if __name__ == \"__main__\":\n",
        "  mobil_tesla = Mobil(\"Tesla Model S\", \"Merah\")\n",
        "  mobil_tesla.info_mobil()\n",
        "  mobil_tesla.mulai_mesin()\n",
        "  print(f\"merk moblill: {mobil_tesla.merk}\")\n",
        "\n"
      ],
      "metadata": {
        "colab": {
          "base_uri": "https://localhost:8080/"
        },
        "id": "p4u2Z8papltI",
        "outputId": "3116f8a2-959b-4207-a978-492563cfba7d"
      },
      "execution_count": null,
      "outputs": [
        {
          "output_type": "stream",
          "name": "stdout",
          "text": [
            "ini adalah mobil Tesla Model S berwarna Merah\n",
            "mesin kendaraan Tesla Model S dinyalakan\n",
            "merk moblill: Tesla Model S\n"
          ]
        }
      ]
    },
    {
      "cell_type": "markdown",
      "source": [
        "## PRAKTIKUM 2 MENGGUNAKAN SUPER() DALAM KONSTRUKTOR"
      ],
      "metadata": {
        "id": "J8bu3OFAu14K"
      }
    },
    {
      "cell_type": "code",
      "source": [
        "class Person:\n",
        "  def __init__ (self, nama, usia):\n",
        "      print(f\"memanggil __init__ Person untuk '{nama}'\")\n",
        "      self.nama = nama\n",
        "      self.usia = usia\n",
        "\n",
        "  def perkenalkan_diri(self):\n",
        "      print(f\"halo nama saya {self.nama}, usia saya {self.usia} tahun\")\n",
        "\n",
        "class Student (Person):\n",
        "  def __init__ (self, nama, usia, student_id, jurusan):\n",
        "      print(f\"memanggil __init__ Student untuk '{nama}'\")\n",
        "      super().__init__(nama, usia)\n",
        "      self.student_id = student_id\n",
        "      self.jurusan = jurusan\n",
        "      print(f\"inisalisasi atribut student selesai untuk '{nama}'\")\n",
        "\n",
        "  def info_akademik(self):\n",
        "      print(f\"ID mahasiswa: {self.student_id}\")\n",
        "      print(f\"jurusan:{self.jurusan}\")\n",
        "\n",
        "  def perkenalkan_diri(self):\n",
        "      super().perkenalkan_diri()\n",
        "      print(f\"saya adalah mahasiswa ID {self.student_id}, jurusan {self.jurusan}\"),\n",
        "\n",
        "if __name__ == \"__main__\":\n",
        "  dosen = Person (\"Pak Anton\", 45)\n",
        "  print(\"-\" * 20)\n",
        "  dosen.perkenalkan_diri()\n",
        "  print(\"\\n\" + \"=\" * 30 + \"\\n\")\n",
        "\n",
        "  mahasiswa = Student(\"Dewi\", 20, \"MHS001\", \"Teknik Informatika\")\n",
        "  print(\"-\" * 20)\n",
        "  mahasiswa.perkenalkan_diri()\n",
        "  print(\"\\n\" + \"=\" * 30 + \"\\n\")\n",
        "  mahasiswa.info_akademik()\n",
        "\n",
        "  print(f\"\\nUsia mahasiswa {mahasiswa.nama}: {mahasiswa.usia}\")"
      ],
      "metadata": {
        "colab": {
          "base_uri": "https://localhost:8080/"
        },
        "id": "D1qiceFXu9Fl",
        "outputId": "41f3d900-4f99-4fda-fe8c-85edcc8ee6b3"
      },
      "execution_count": null,
      "outputs": [
        {
          "output_type": "stream",
          "name": "stdout",
          "text": [
            "memanggil __init__ Person untuk 'Pak Anton'\n",
            "--------------------\n",
            "halo nama saya Pak Anton, usia saya 45 tahun\n",
            "\n",
            "==============================\n",
            "\n",
            "memanggil __init__ Student untuk 'Dewi'\n",
            "memanggil __init__ Person untuk 'Dewi'\n",
            "inisalisasi atribut student selesai untuk 'Dewi'\n",
            "--------------------\n",
            "halo nama saya Dewi, usia saya 20 tahun\n",
            "saya adalah mahasiswa ID MHS001, jurusan Teknik Informatika\n",
            "\n",
            "==============================\n",
            "\n",
            "ID mahasiswa: MHS001\n",
            "jurusan:Teknik Informatika\n",
            "\n",
            "Usia mahasiswa Dewi: 20\n"
          ]
        }
      ]
    },
    {
      "cell_type": "markdown",
      "source": [
        "## PRAKTIKUM 3 METHOD OVERRIDING DAN SUPER()"
      ],
      "metadata": {
        "id": "Y5_e7Oypz21w"
      }
    },
    {
      "cell_type": "code",
      "source": [
        "class Hewan:\n",
        "  def __init__ (self, nama):\n",
        "      self.nama = nama\n",
        "  def bersuara(self):\n",
        "      print(f\"{self.nama} mengeluarkan suara generikk\")\n",
        "  def tampilkan_info(self):\n",
        "      print(f\"ini adalah hewan {self.nama}\")\n",
        "\n",
        "class Kucing(Hewan):\n",
        "  def __init__ (self, nama, ras):\n",
        "      super().__init__(nama)\n",
        "      self.ras = ras\n",
        "  def bersuara(self):\n",
        "      print(f\"{self.nama} (kucing)bersuara meong!\")\n",
        "  def tampilkan_info(self):\n",
        "      super().tampilkan_info()\n",
        "      print(f\"ini adalah kucing ras {self.ras}\")\n",
        "\n",
        "if __name__ == \"__main__\":\n",
        "    hewan_umum = Hewan(\"Makhluk\")\n",
        "    kucing_persia = Kucing(\"Pupus\", \"Persia\")\n",
        "    print(\"info hewan umum:\")\n",
        "    hewan_umum.tampilkan_info()\n",
        "    hewan_umum.bersuara()\n",
        "    print(\"-\" * 20)\n",
        "\n",
        "    print(\"info kucing persia:\")\n",
        "    kucing_persia.tampilkan_info()\n",
        "    kucing_persia.bersuara()"
      ],
      "metadata": {
        "colab": {
          "base_uri": "https://localhost:8080/"
        },
        "id": "0nsZ0Hgkz77U",
        "outputId": "d7b5c621-9793-427c-9a8d-e142ada1e6c7"
      },
      "execution_count": null,
      "outputs": [
        {
          "output_type": "stream",
          "name": "stdout",
          "text": [
            "info hewan umum:\n",
            "ini adalah hewan Makhluk\n",
            "Makhluk mengeluarkan suara generikk\n",
            "--------------------\n",
            "info kucing persia:\n",
            "ini adalah hewan Pupus\n",
            "ini adalah kucing ras Persia\n",
            "Pupus (kucing)bersuara meong!\n"
          ]
        }
      ]
    },
    {
      "cell_type": "markdown",
      "source": [
        "## PRAKTIKUM 4 MULTI LEVEL INHERITANCE"
      ],
      "metadata": {
        "id": "UsQT5kZM7EUZ"
      }
    },
    {
      "cell_type": "code",
      "source": [
        "class Organisme:\n",
        "  def __init__ (self, nama):\n",
        "      self.nama = nama\n",
        "      print(f\"Organisme '{self.nama}' diciptakan\")\n",
        "\n",
        "  def bernapas(self):\n",
        "      print(f\"{self.nama} sedang bernapas\")\n",
        "\n",
        "class Hewan (Organisme):\n",
        "  def __init__ (self, nama, jenis_makanan):\n",
        "      super().__init__(nama)\n",
        "      self.jenis_makanan = jenis_makanan\n",
        "      print(f\"Hewan '{self.nama}' adalah {self.jenis_makanan}\")\n",
        "  def bergerak(self):\n",
        "      print(f\"{self.nama} sedang bergerak\")\n",
        "\n",
        "class Mamalia(Hewan):\n",
        "  def __init__ (self, nama, jenis_makanan, jumlah_kaki):\n",
        "      super().__init__(nama, jenis_makanan)\n",
        "      self.jumlah_kaki = jumlah_kaki\n",
        "      print(f\"Mamalia '{self.nama}' memiliki {self.jumlah_kaki} kaki\")\n",
        "  def menyusui(self):\n",
        "      print(f\"{self.nama} sedang menyusui\")\n",
        "if __name__ == \"__main__\":\n",
        "  kucing = Mamalia(\"Kucing persia\", \"karnivora\", 4)\n",
        "  print(\"-\" * 20)\n",
        "  kucing.menyusui()\n",
        "  kucing.bergerak()\n",
        "  print(f\"jenis makanan: {kucing.jenis_makanan}\")\n",
        "  kucing.bernapas()\n",
        "  print(f\"nama organisme: {kucing.nama}\")"
      ],
      "metadata": {
        "colab": {
          "base_uri": "https://localhost:8080/"
        },
        "id": "PWE1CqaU7XCj",
        "outputId": "208276c0-6c39-4647-cf18-c20e512f2da7"
      },
      "execution_count": null,
      "outputs": [
        {
          "output_type": "stream",
          "name": "stdout",
          "text": [
            "Organisme 'Kucing persia' diciptakan\n",
            "Hewan 'Kucing persia' adalah karnivora\n",
            "Mamalia 'Kucing persia' memiliki 4 kaki\n",
            "--------------------\n",
            "Kucing persia sedang menyusui\n",
            "Kucing persia sedang bergerak\n",
            "jenis makanan: karnivora\n",
            "Kucing persia sedang bernapas\n",
            "nama organisme: Kucing persia\n"
          ]
        }
      ]
    },
    {
      "cell_type": "markdown",
      "source": [
        "## PRAKTIKUM 5 HIERARCHICAL INHERITANCE"
      ],
      "metadata": {
        "id": "-Fr6vcez9fYF"
      }
    },
    {
      "cell_type": "code",
      "source": [
        "!apt-get install -y locales\n",
        "!locale-gen id_ID.UTF-8\n",
        "!update-locale"
      ],
      "metadata": {
        "colab": {
          "base_uri": "https://localhost:8080/"
        },
        "id": "fJJN_oYoB84N",
        "outputId": "9beb9da8-8847-4b3a-8916-832fc5d9e028"
      },
      "execution_count": null,
      "outputs": [
        {
          "output_type": "stream",
          "name": "stdout",
          "text": [
            "Reading package lists... Done\n",
            "Building dependency tree... Done\n",
            "Reading state information... Done\n",
            "locales is already the newest version (2.35-0ubuntu3.9).\n",
            "0 upgraded, 0 newly installed, 0 to remove and 34 not upgraded.\n",
            "Generating locales (this might take a while)...\n",
            "  id_ID.UTF-8... done\n",
            "Generation complete.\n"
          ]
        }
      ]
    },
    {
      "cell_type": "code",
      "source": [
        "import locale\n",
        "\n",
        "try:\n",
        "    locale.setlocale(locale.LC_ALL,'id_ID.UTF-8')\n",
        "except locale.Error:\n",
        "      print(\"Locale id_ID.UTF-8 tidak tersedia, menggunakan locale default\")\n",
        "\n",
        "def format_rupiah(angka):\n",
        "    return locale.currency(angka, grouping=True, symbol='Rp')\n",
        "\n",
        "class Pegawai:\n",
        "  def __init__ (self, nama, id_pegawai, gaji_pokok):\n",
        "      self.nama = nama\n",
        "      self.id_pegawai = id_pegawai\n",
        "      self.gaji_pokok = gaji_pokok\n",
        "  def hitung_gaji(self):\n",
        "      return self.gaji_pokok\n",
        "  def tampilkan_info(self):\n",
        "      print(f\"ID Pegawai: {self.id_pegawai}, Nama: {self.nama}\")\n",
        "      print(f\"Gaji Pokok: {format_rupiah(self.gaji_pokok)}\")\n",
        "\n",
        "class Manager(Pegawai):\n",
        "  def __init__ (self, nama, id_pegawai, gaji_pokok, tunjangan_jabatan):\n",
        "      super().__init__(nama, id_pegawai, gaji_pokok)\n",
        "      self.tunjangan_jabatan = tunjangan_jabatan\n",
        "  def hitung_gaji(self):\n",
        "      gaji_total = super().hitung_gaji() + self.tunjangan_jabatan\n",
        "      return gaji_total\n",
        "  def tampilkan_info(self):\n",
        "      print(\"Info manager\")\n",
        "      super().tampilkan_info()\n",
        "      print(f\"Tunjangan Jabatan: {format_rupiah(self.hitung_gaji())}\")\n",
        "\n",
        "class StaffTeknik(Pegawai):\n",
        "  def __init__ (self, nama, id_pegawai, gaji_pokok, keahlian, bonus_keahlian):\n",
        "      super().__init__(nama, id_pegawai, gaji_pokok)\n",
        "      self.keahlian = keahlian\n",
        "      self.bonus_keahlian = bonus_keahlian\n",
        "  def hitung_gaji(self):\n",
        "      gaji_total = super().hitung_gaji() + self.bonus_keahlian\n",
        "      return gaji_total\n",
        "  def tampilkan_info(self):\n",
        "      print(\"Info Staff Teknik\")\n",
        "      super().tampilkan_info()\n",
        "      print(f\"Keahlian: {self.keahlian}\")\n",
        "      print(f\"Bonus Keahlian: {format_rupiah(self.bonus_keahlian)}\")\n",
        "      print(f\"Gaji Total: {format_rupiah(self.hitung_gaji())}\")\n",
        "\n",
        "if __name__ == \"__main__\":\n",
        "  manager1 = Manager(\"Budi Santoso\", \"M001\", 10000000, 5000000)\n",
        "  staf1 = StaffTeknik(\"Citra Lestari\", \"S001\", 7000000, \"Pemrograman Python\", 1500000)\n",
        "  pegawai_baru = Pegawai(\"Rian\", \"P005\", 5000000)\n",
        "  print(\"Menampilkan Informasi Pegawai:\")\n",
        "  manager1.tampilkan_info()\n",
        "  print(\"-\" * 30)\n",
        "  staf1.tampilkan_info\n",
        "  print(\"-\" * 30)\n",
        "\n",
        "  print(\"---INFO PEGAWAI BARU---\")\n",
        "  pegawai_baru.tampilkan_info()\n",
        "  print(f\"total gaji: {format_rupiah(pegawai_baru.hitung_gaji())}\")\n",
        "  print(\"-\" * 30)\n",
        "\n"
      ],
      "metadata": {
        "colab": {
          "base_uri": "https://localhost:8080/"
        },
        "id": "vGhq_f759l19",
        "outputId": "2b2cf59e-a1f4-43bf-87fc-d81a69463cfd"
      },
      "execution_count": null,
      "outputs": [
        {
          "output_type": "stream",
          "name": "stdout",
          "text": [
            "Menampilkan Informasi Pegawai:\n",
            "Info manager\n",
            "ID Pegawai: M001, Nama: Budi Santoso\n",
            "Gaji Pokok: Rp10.000.000,00\n",
            "Tunjangan Jabatan: Rp15.000.000,00\n",
            "------------------------------\n",
            "------------------------------\n",
            "---INFO PEGAWAI BARU---\n",
            "ID Pegawai: P005, Nama: Rian\n",
            "Gaji Pokok: Rp5.000.000,00\n",
            "total gaji: Rp5.000.000,00\n",
            "------------------------------\n"
          ]
        }
      ]
    },
    {
      "cell_type": "markdown",
      "source": [
        "### Praktikum 06: Memeriksa Tipe Instance dengan instance()"
      ],
      "metadata": {
        "id": "sv16wctylwkY"
      }
    },
    {
      "cell_type": "code",
      "source": [
        "class BentukGeometri:\n",
        "\tdef __init__(self, nama_bentuk):\n",
        "\t\tself.nama = nama_bentuk\n",
        "\tdef tampilkan_nama(self):\n",
        "\t\tprint(f\"Ini adalah bentuk: {self.nama}\")\n",
        "\tdef hitung_luas(self):\n",
        "\t  print(f\"Luas {self.nama} tidak dapat dihitung (generik).\")\n",
        "\n",
        "class PersegiPanjang(BentukGeometri):\n",
        "\tdef __init__(self, panjang, lebar):\n",
        "\t\tsuper().__init__(\"Persegi Panjang\")\n",
        "\t\tself.panjang = panjang\n",
        "\t\tself.lebar = lebar\n",
        "\tdef hitung_luas(self):\n",
        "\t\tluas = self.panjang * self.lebar\n",
        "\t\tprint(f\"Luas {self.nama}: {luas}\")\n",
        "\n",
        "class Segitiga(BentukGeometri):\n",
        "\tdef __init__(self, alas, tinggi):\n",
        "\t\tsuper().__init__(\"Segitiga\")\n",
        "\t\tself.alas = alas\n",
        "\t\tself.tinggi = tinggi\n",
        "\tdef hitung_luas(self):\n",
        "\t\tluas = 0.5 * self.alas * self.tinggi\n",
        "\t\tprint(f\"Luas {self.nama}: {luas}\")\n",
        "\n",
        "def proses_bentuk(bentuk):\n",
        "\tprint(f\"\\nMemproses objek: {type(bentuk)}\")\n",
        "\n",
        "\tif isinstance(bentuk, BentukGeometri):\n",
        "\t\tbentuk.tampilkan_nama()\n",
        "\t\tprint(\"Objek ini adalah instance dari BentukGeometri (atau turunannya).\")\n",
        "\n",
        "\t\tif isinstance(bentuk, PersegiPanjang):\n",
        "\t\t\tprint(\"-> Objek ini juga instance dari PersegiPanjang.\")\n",
        "\t\telif isinstance(bentuk, Segitiga):\n",
        "\t\t\tprint(\"-> Objek ini juga instance dari Segitiga.\")\n",
        "\t\telse:\n",
        "\t\t\tprint(\"Objek ini BUKAN instance dari BentukGeometri.\")\n",
        "\n",
        "\tif isinstance(bentuk, str):\n",
        "\t\tprint(\"Objek ini adalah string.\")\n",
        "\n",
        "# --- Kode Utama ---\n",
        "if __name__ == \"__main__\":\n",
        "\tpp = PersegiPanjang(4, 3)\n",
        "\tseg = Segitiga(5, 2)\n",
        "\tbg = BentukGeometri(\"Lingkaran\") # Contoh lain\n",
        "\tteks = \"Ini string\"\n",
        "\tdaftar_objek = [pp, seg, bg, teks]\n",
        "\tfor obj in daftar_objek:\n",
        "\t\tproses_bentuk(obj)\n"
      ],
      "metadata": {
        "colab": {
          "base_uri": "https://localhost:8080/"
        },
        "id": "ZZrN9nKWlxIS",
        "outputId": "ff80192b-b7fc-43fc-fe33-a56813be6d30"
      },
      "execution_count": 7,
      "outputs": [
        {
          "output_type": "stream",
          "name": "stdout",
          "text": [
            "\n",
            "Memproses objek: <class '__main__.PersegiPanjang'>\n",
            "Ini adalah bentuk: Persegi Panjang\n",
            "Objek ini adalah instance dari BentukGeometri (atau turunannya).\n",
            "-> Objek ini juga instance dari PersegiPanjang.\n",
            "\n",
            "Memproses objek: <class '__main__.Segitiga'>\n",
            "Ini adalah bentuk: Segitiga\n",
            "Objek ini adalah instance dari BentukGeometri (atau turunannya).\n",
            "-> Objek ini juga instance dari Segitiga.\n",
            "\n",
            "Memproses objek: <class '__main__.BentukGeometri'>\n",
            "Ini adalah bentuk: Lingkaran\n",
            "Objek ini adalah instance dari BentukGeometri (atau turunannya).\n",
            "Objek ini BUKAN instance dari BentukGeometri.\n",
            "\n",
            "Memproses objek: <class 'str'>\n",
            "Objek ini adalah string.\n"
          ]
        }
      ]
    },
    {
      "cell_type": "markdown",
      "source": [
        "## Tugas Praktikum"
      ],
      "metadata": {
        "id": "gPfEMa1UTZ8s"
      }
    },
    {
      "cell_type": "code",
      "source": [
        "\n",
        "class Mahasiswa:\n",
        "    def __init__(self, nama, nim, ipk):\n",
        "        self.nama = nama\n",
        "        self.nim = nim\n",
        "        self.ipk = ipk\n",
        "\n",
        "    def tampilkan_info(self):\n",
        "        print(f\"Nama: {self.nama}\")\n",
        "        print(f\"NIM: {self.nim}\")\n",
        "        print(f\"IPK: {self.ipk}\")\n",
        "\n",
        "    def hitung_predikat(self):\n",
        "        if self.ipk >= 3.5:\n",
        "            print(\"Predikat: Dengan Pujian\")\n",
        "        elif self.ipk >= 3.0:\n",
        "            print(\"Predikat: Sangat Memuaskan\")\n",
        "        elif self.ipk >= 2.5:\n",
        "            print(\"Predikat: Memuaskan\")\n",
        "        else:\n",
        "            print(\"Predikat: Cukup\")\n",
        "\n",
        "\n",
        "class MahasiswaSarjana(Mahasiswa):\n",
        "    def __init__(self, nama, nim, ipk, semester, sks_lulus):\n",
        "        super().__init__(nama, nim, ipk)\n",
        "        self.semester = semester\n",
        "        self.sks_lulus = sks_lulus\n",
        "\n",
        "    def tampilkan_info(self):\n",
        "        super().tampilkan_info()\n",
        "        print(f\"Semester: {self.semester}\")\n",
        "        print(f\"SKS Lulus: {self.sks_lulus}\")\n",
        "\n",
        "\n",
        "class MahasiswaMagister(Mahasiswa):\n",
        "    def __init__(self, nama, nim, ipk, judul_tesis, nama_pembimbing):\n",
        "        super().__init__(nama, nim, ipk)\n",
        "        self.judul_tesis = judul_tesis\n",
        "        self.nama_pembimbing = nama_pembimbing\n",
        "\n",
        "    def tampilkan_info(self):\n",
        "        super().tampilkan_info()\n",
        "        print(f\"Judul Tesis: {self.judul_tesis}\")\n",
        "        print(f\"Pembimbing: {self.nama_pembimbing}\")\n",
        "\n",
        "    def hitung_predikat(self):\n",
        "        if self.ipk >= 3.75:\n",
        "            print(\"Predikat: Lulus dengan Pujian (Magister)\")\n",
        "        elif self.ipk >= 3.25:\n",
        "            print(\"Predikat: Sangat Memuaskan (Magister)\")\n",
        "        else:\n",
        "            print(\"Predikat: Memuaskan (Magister)\")\n",
        "\n",
        "\n",
        "def main():\n",
        "    print(\"=== Mahasiswa Sarjana ===\")\n",
        "    s1 = MahasiswaSarjana(\"Ganang\", \"4.33.24.1.09\", 3.9, 6, 110)\n",
        "    s1.tampilkan_info()\n",
        "    s1.hitung_predikat()\n",
        "\n",
        "    print(\"\\n=== Mahasiswa Magister ===\")\n",
        "    m1 = MahasiswaMagister(\"Budi\", \"654321\", 3.8, \"Sistem Rekomendasi Berbasis AI\", \"Dr. Siti Aminah\")\n",
        "    m1.tampilkan_info()\n",
        "    m1.hitung_predikat()\n",
        "\n",
        "\n",
        "if __name__ == \"__main__\":\n",
        "    main()\n"
      ],
      "metadata": {
        "id": "iYxKMyFu47Lu",
        "colab": {
          "base_uri": "https://localhost:8080/"
        },
        "outputId": "8cbc835c-6cbe-4ad9-8e1d-1387f9e7b62b"
      },
      "execution_count": 9,
      "outputs": [
        {
          "output_type": "stream",
          "name": "stdout",
          "text": [
            "=== Mahasiswa Sarjana ===\n",
            "Nama: Ganang\n",
            "NIM: 4.33.24.1.09\n",
            "IPK: 3.9\n",
            "Semester: 6\n",
            "SKS Lulus: 110\n",
            "Predikat: Dengan Pujian\n",
            "\n",
            "=== Mahasiswa Magister ===\n",
            "Nama: Budi\n",
            "NIM: 654321\n",
            "IPK: 3.8\n",
            "Judul Tesis: Sistem Rekomendasi Berbasis AI\n",
            "Pembimbing: Dr. Siti Aminah\n",
            "Predikat: Lulus dengan Pujian (Magister)\n"
          ]
        }
      ]
    }
  ]
}