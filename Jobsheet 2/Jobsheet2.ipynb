{
  "nbformat": 4,
  "nbformat_minor": 0,
  "metadata": {
    "colab": {
      "provenance": [],
      "authorship_tag": "ABX9TyOu8hQXYvTPsfm/08jv9v/U",
      "include_colab_link": true
    },
    "kernelspec": {
      "name": "python3",
      "display_name": "Python 3"
    },
    "language_info": {
      "name": "python"
    }
  },
  "cells": [
    {
      "cell_type": "markdown",
      "metadata": {
        "id": "view-in-github",
        "colab_type": "text"
      },
      "source": [
        "<a href=\"https://colab.research.google.com/github/Zaxzz/2025_PBO_TI1B/blob/main/Jobsheet2.ipynb\" target=\"_parent\"><img src=\"https://colab.research.google.com/assets/colab-badge.svg\" alt=\"Open In Colab\"/></a>"
      ]
    },
    {
      "cell_type": "markdown",
      "source": [
        "# JOBSHEET 02:"
      ],
      "metadata": {
        "id": "ftfMWuPWroz-"
      }
    },
    {
      "cell_type": "markdown",
      "source": [
        "# DASAR KELAS DAN FUNGSI PADA BAHASA PEMROGRAMAN PYTHON"
      ],
      "metadata": {
        "id": "nEIut6UirpSt"
      }
    },
    {
      "cell_type": "markdown",
      "source": [
        "## Praktikum 1: Membuat dan Menggunakan Fungsi"
      ],
      "metadata": {
        "id": "d1PMjlbYry2L"
      }
    },
    {
      "cell_type": "code",
      "source": [
        "# fungsi built-in\n",
        "# fungsi print() adalah contoh fungsi built-in untuk mencetak output\n",
        "print(\"ini adalah contoh fungsi built-in\")\n",
        "\n",
        "# fungsi len() adalah contoh fungsi built-in untuk menghitung panjang\n",
        "# suatu objek\n",
        "kata = \"pemrograman\"\n",
        "panjang_kata = len(kata)\n",
        "print(f\"panjang kata '{kata}' adalah: {panjang_kata}\")\n",
        "\n",
        "# fungsi max() adalah contoh fungsi built-in untuk mencari nilai maksimum\n",
        "# dari sebuah daftar\n",
        "angka = [10, 5, 30, 40, 25]\n",
        "nilai_max = max(angka)\n",
        "print(f\"nilai maksimum dalam daftar {angka} adalah: {nilai_max}\")\n",
        "\n",
        "# fungsi user-defined\n",
        "# fungsi dengan satu parameter (menerima satu nilai input)\n",
        "def cetak_kuadrat(angka):\n",
        "    # menghitung kuadrat dari angka yang diterima sebagai parameter\n",
        "    print(f\"kuadrat dari {angka} adalah: {angka ** 2}\")\n",
        "\n",
        "# fungsi dengan beberapa parameter (menerima lebih dari satu nilai input)\n",
        "def hitung_luas_persegi_panjang(panjang, lebar):\n",
        "    # menghitung luas persegi panjang\n",
        "    return panjang * lebar\n",
        "\n",
        "# fungsi dengan beberapa tipe parameter (menerima berbagai jenis data)\n",
        "def info_mahasiswa(nama, umur, ipk):\n",
        "    # mencetak informasi mahasiswa\n",
        "    print(f\"nama: {nama}, umur: {umur}, ipk: {ipk}\")\n",
        "\n",
        "# fungsi tanpa return value (non-return value)\n",
        "def sapa_pengguna(nama):\n",
        "    # fungsi ini hanya mencetak sapaan tanpa mengembalikan nilai\n",
        "    print(f\"halo, {nama}! selamat datang di dunia python.\")\n",
        "\n",
        "# fungsi dengan return value\n",
        "def hitung_keliling_persegi(sisi):\n",
        "    # mengembalikan keliling persegi\n",
        "    return 4 * sisi\n",
        "\n",
        "# pemanggilan fungsi dengan satu parameter\n",
        "cetak_kuadrat(5)\n",
        "\n",
        "# pemanggilan fungsi dengan beberapa parameter\n",
        "luas = hitung_luas_persegi_panjang(10, 5)\n",
        "print(f\"luas persegi panjang: {luas}\")\n",
        "\n",
        "# pemanggilan fungsi dengan beberapa tipe parameter\n",
        "info_mahasiswa(\"budi\", 22, 3.8)\n",
        "\n",
        "# pemanggilan fungsi tanpa return value\n",
        "sapa_pengguna(\"andi\")\n",
        "\n",
        "# pemanggilan fungsi dengan return value\n",
        "keliling = hitung_keliling_persegi(5)\n",
        "print(f\"keliling persegi dengan sisi 5 adalah: {keliling}\")\n"
      ],
      "metadata": {
        "colab": {
          "base_uri": "https://localhost:8080/"
        },
        "id": "zSD18oonr8zI",
        "outputId": "9313983d-2e94-4daa-b53e-7f8b9e719fa6"
      },
      "execution_count": 3,
      "outputs": [
        {
          "output_type": "stream",
          "name": "stdout",
          "text": [
            "ini adalah contoh fungsi built-in\n",
            "panjang kata 'pemrograman' adalah: 11\n",
            "nilai maksimum dalam daftar [10, 5, 30, 40, 25] adalah: 40\n",
            "kuadrat dari 5 adalah: 25\n",
            "luas persegi panjang: 50\n",
            "nama: budi, umur: 22, ipk: 3.8\n",
            "halo, andi! selamat datang di dunia python.\n",
            "keliling persegi dengan sisi 5 adalah: 20\n"
          ]
        }
      ]
    },
    {
      "cell_type": "markdown",
      "source": [
        "## Praktikum 2: Modularisasi Kode dengan Fungsi"
      ],
      "metadata": {
        "id": "CO0Vew2DtJEr"
      }
    },
    {
      "cell_type": "code",
      "source": [
        "# file utama main.py yang mengimpor modul geometri.py\n",
        "\n",
        "# mengimpor modul geometri\n",
        "import geometri\n",
        "\n",
        "def main():\n",
        "    # menggunakan fungsi dari modul geometri\n",
        "    luas_persegi = geometri.hitung_luas_persegi(5)\n",
        "    print(f\"luas persegi dengan sisi 5 adalah: {luas_persegi}\")\n",
        "\n",
        "    luas_persegi_panjang = geometri.hitung_luas_persegi_panjang(10, 5)\n",
        "    print(f\"luas persegi panjang dengan panjang 10 dan lebar 5 adalah: {luas_persegi_panjang}\")\n",
        "\n",
        "    luas_lingkaran = geometri.hitung_luas_lingkaran(7)\n",
        "    print(f\"luas lingkaran dengan jari-jari 7 adalah: {luas_lingkaran}\")\n",
        "\n",
        "if __name__ == \"__main__\":\n",
        "    main()\n"
      ],
      "metadata": {
        "colab": {
          "base_uri": "https://localhost:8080/"
        },
        "id": "UHZYuPhetL_B",
        "outputId": "28b8ed0e-db4e-4e3f-ac88-3e2ab504965b"
      },
      "execution_count": 4,
      "outputs": [
        {
          "output_type": "stream",
          "name": "stdout",
          "text": [
            "luas persegi dengan sisi 5 adalah: 25\n",
            "luas persegi panjang dengan panjang 10 dan lebar 5 adalah: 50\n",
            "luas lingkaran dengan jari-jari 7 adalah: 153.86\n"
          ]
        }
      ]
    },
    {
      "cell_type": "markdown",
      "source": [
        "## Praktikum 3: Membuat Kelas Sederhana"
      ],
      "metadata": {
        "id": "G-rhCmQjuGoT"
      }
    },
    {
      "cell_type": "code",
      "source": [
        "# kelas buku untuk merepresentasikan buku di perpustakaan\n",
        "\n",
        "class Buku:\n",
        "    def __init__(self, judul, pengarang, tahun_terbit):\n",
        "        self.judul = judul\n",
        "        self.pengarang = pengarang\n",
        "        self.tahun_terbit = tahun_terbit\n",
        "        self.status = \"tersedia\"  # status buku, default adalah tersedia\n",
        "\n",
        "    def tampilkan_info(self):\n",
        "        print(f\"judul: {self.judul}\")\n",
        "        print(f\"pengarang: {self.pengarang}\")\n",
        "        print(f\"tahun terbit: {self.tahun_terbit}\")\n",
        "        print(f\"status: {self.status}\")\n",
        "\n",
        "    def pinjam(self):\n",
        "        if self.status == \"tersedia\":\n",
        "            self.status = \"dipinjam\"\n",
        "            print(f\"buku '{self.judul}' telah dipinjam.\")\n",
        "        else:\n",
        "            print(f\"buku '{self.judul}' sedang dipinjam.\")\n",
        "\n",
        "    def kembalikan(self):\n",
        "        if self.status == \"dipinjam\":\n",
        "            self.status = \"tersedia\"\n",
        "            print(f\"buku '{self.judul}' telah dikembalikan.\")\n",
        "        else:\n",
        "            print(f\"buku '{self.judul}' tidak sedang dipinjam.\")\n",
        "\n",
        "# membuat objek dari kelas buku\n",
        "buku1 = Buku(\"Pemrograman Python\", \"John Doe\", 2021)\n",
        "buku2 = Buku(\"Data Science untuk Pemula\", \"Jane Smith\", 2020)\n",
        "\n",
        "# menggunakan metode objek buku\n",
        "buku1.tampilkan_info()\n",
        "buku2.pinjam()\n",
        "\n",
        "# mengubah status buku dan menampilkan informasi\n",
        "buku2.kembalikan()\n",
        "buku1.pinjam()\n",
        "buku1.tampilkan_info()\n",
        "\n",
        "# kelas mahasiswa untuk merepresentasikan mahasiswa dalam kelas\n",
        "\n",
        "# definisi kelas\n",
        "class Mahasiswa:\n",
        "    # konstruktor (__init__) untuk menginisialisasi atribut objek\n",
        "    def __init__(self, nama, nim, umur):\n",
        "        self.nama = nama  # atribut objek nama\n",
        "        self.nim = nim  # atribut objek nim\n",
        "        self.umur = umur  # atribut objek umur\n",
        "\n",
        "    # metode untuk menampilkan informasi mahasiswa\n",
        "    def tampilkan_info(self):\n",
        "        print(f\"nama: {self.nama}\")\n",
        "        print(f\"nim: {self.nim}\")\n",
        "        print(f\"umur: {self.umur} tahun\")\n",
        "\n",
        "    # metode untuk merubah umur mahasiswa\n",
        "    def ubah_umur(self, umur_baru):\n",
        "        self.umur = umur_baru\n",
        "\n",
        "# membuat objek (instance) dari kelas mahasiswa\n",
        "mahasiswa1 = Mahasiswa(\"Andi\", \"12345\", 20)\n",
        "mahasiswa2 = Mahasiswa(\"Budi\", \"67890\", 22)\n",
        "\n",
        "# menggunakan metode dari kelas mahasiswa\n",
        "mahasiswa1.tampilkan_info()\n",
        "print()  # baris kosong\n",
        "mahasiswa2.tampilkan_info()\n",
        "\n",
        "# mengubah umur mahasiswa1 menggunakan metode ubah_umur\n",
        "mahasiswa1.ubah_umur(21)\n",
        "\n",
        "# menampilkan info mahasiswa setelah umur diubah\n",
        "print(\"\\nsetelah mengubah umur mahasiswa1:\")\n",
        "mahasiswa1.tampilkan_info()\n"
      ],
      "metadata": {
        "colab": {
          "base_uri": "https://localhost:8080/"
        },
        "id": "49d5UibuuMlT",
        "outputId": "eb8ccd18-dfc1-40ce-bcaa-fe7eb4033e43"
      },
      "execution_count": 5,
      "outputs": [
        {
          "output_type": "stream",
          "name": "stdout",
          "text": [
            "judul: Pemrograman Python\n",
            "pengarang: John Doe\n",
            "tahun terbit: 2021\n",
            "status: tersedia\n",
            "buku 'Data Science untuk Pemula' telah dipinjam.\n",
            "buku 'Data Science untuk Pemula' telah dikembalikan.\n",
            "buku 'Pemrograman Python' telah dipinjam.\n",
            "judul: Pemrograman Python\n",
            "pengarang: John Doe\n",
            "tahun terbit: 2021\n",
            "status: dipinjam\n",
            "nama: Andi\n",
            "nim: 12345\n",
            "umur: 20 tahun\n",
            "\n",
            "nama: Budi\n",
            "nim: 67890\n",
            "umur: 22 tahun\n",
            "\n",
            "setelah mengubah umur mahasiswa1:\n",
            "nama: Andi\n",
            "nim: 12345\n",
            "umur: 21 tahun\n"
          ]
        }
      ]
    },
    {
      "cell_type": "markdown",
      "source": [
        "## Praktikum 4: Membuat dan Menggunakan Method dalam Kelas"
      ],
      "metadata": {
        "id": "6zK5btKuvHEK"
      }
    },
    {
      "cell_type": "code",
      "source": [
        "# kelas untuk menjelaskan atribut dan metode dalam kelas\n",
        "class Mobil:\n",
        "    def __init__(self, merk, warna, tahun, harga):\n",
        "        # atribut yang dimiliki oleh objek mobil\n",
        "        self.merk = merk\n",
        "        self.warna = warna\n",
        "        self.tahun = tahun\n",
        "        self.harga = harga\n",
        "\n",
        "    # fungsi tanpa return value, hanya mencetak informasi\n",
        "    def tampilkan_info(self):\n",
        "        print(f\"mobil {self.merk} berwarna {self.warna}, tahun {self.tahun}, harga: rp {self.harga}\")\n",
        "\n",
        "    # fungsi dengan satu parameter\n",
        "    def diskon(self, persen_diskon):\n",
        "        # menghitung harga setelah diskon\n",
        "        diskon_harga = self.harga * (persen_diskon / 100)\n",
        "        harga_setelah_diskon = self.harga - diskon_harga\n",
        "        print(f\"harga setelah diskon {persen_diskon}%: rp {harga_setelah_diskon}\")\n",
        "        # tidak mengembalikan nilai, hanya mencetak harga setelah diskon\n",
        "\n",
        "    # fungsi dengan return value, menghitung usia mobil berdasarkan tahun\n",
        "    def hitung_usia(self, tahun_sekarang):\n",
        "        usia = tahun_sekarang - self.tahun\n",
        "        return usia\n",
        "\n",
        "    # fungsi dengan beberapa parameter\n",
        "    def perbarui_harga(self, harga_baru, tahun_baru):\n",
        "        self.harga = harga_baru\n",
        "        self.tahun = tahun_baru\n",
        "        print(f\"harga dan tahun mobil {self.merk} diperbarui menjadi rp {self.harga} dan tahun {self.tahun}\")\n",
        "\n",
        "# membuat objek mobil\n",
        "mobil1 = Mobil(\"Toyota\", \"Hitam\", 2015, 300000000)\n",
        "mobil2 = Mobil(\"Honda\", \"Merah\", 2018, 250000000)\n",
        "\n",
        "# menggunakan metode tanpa return value\n",
        "mobil1.tampilkan_info()\n",
        "mobil2.tampilkan_info()\n",
        "\n",
        "# menggunakan metode dengan satu parameter (diskon)\n",
        "mobil1.diskon(10)\n",
        "mobil2.diskon(15)\n",
        "\n",
        "# menggunakan metode dengan return value (hitung usia mobil)\n",
        "usia_mobil1 = mobil1.hitung_usia(2025)\n",
        "usia_mobil2 = mobil2.hitung_usia(2025)\n",
        "\n",
        "print(f\"usia mobil1 pada tahun 2025: {usia_mobil1} tahun\")\n",
        "print(f\"usia mobil2 pada tahun 2025: {usia_mobil2} tahun\")\n",
        "\n",
        "# menggunakan metode dengan beberapa parameter (perbarui harga dan tahun)\n",
        "mobil1.perbarui_harga(280000000, 2022)\n",
        "mobil2.perbarui_harga(240000000, 2021)\n"
      ],
      "metadata": {
        "colab": {
          "base_uri": "https://localhost:8080/"
        },
        "id": "x321kGLbvK6M",
        "outputId": "98cfa06c-5eb3-4ec9-95ab-804ef5f0e628"
      },
      "execution_count": 6,
      "outputs": [
        {
          "output_type": "stream",
          "name": "stdout",
          "text": [
            "mobil Toyota berwarna Hitam, tahun 2015, harga: rp 300000000\n",
            "mobil Honda berwarna Merah, tahun 2018, harga: rp 250000000\n",
            "harga setelah diskon 10%: rp 270000000.0\n",
            "harga setelah diskon 15%: rp 212500000.0\n",
            "usia mobil1 pada tahun 2025: 10 tahun\n",
            "usia mobil2 pada tahun 2025: 7 tahun\n",
            "harga dan tahun mobil Toyota diperbarui menjadi rp 280000000 dan tahun 2022\n",
            "harga dan tahun mobil Honda diperbarui menjadi rp 240000000 dan tahun 2021\n"
          ]
        }
      ]
    },
    {
      "cell_type": "markdown",
      "source": [
        "## Tugas 5\n"
      ],
      "metadata": {
        "id": "Fp63PNlHv72_"
      }
    },
    {
      "cell_type": "code",
      "source": [
        "# file: main.py (program utama)\n",
        "import parkir\n",
        "\n",
        "def main():\n",
        "    motor1 = parkir.ParkirMotor(\"AB 1234 CD\", \"Matic\")\n",
        "    motor2 = parkir.ParkirMotor(\"AD 5678 EF\", \"Sport\")\n",
        "\n",
        "    print(\"=== Informasi Kendaraan Terparkir ===\")\n",
        "    motor1.tampilkan_info()\n",
        "    motor2.tampilkan_info()\n",
        "\n",
        "    print(\"\\n=== Motor Keluar dari Parkiran ===\")\n",
        "    motor1.keluar()\n",
        "    motor1.tampilkan_info()\n",
        "\n",
        "if __name__ == \"__main__\":\n",
        "    main()"
      ],
      "metadata": {
        "colab": {
          "base_uri": "https://localhost:8080/"
        },
        "id": "pMJVtvh-wAgV",
        "outputId": "ebf794fd-8de8-4aa2-924c-55f3e191cf10"
      },
      "execution_count": 13,
      "outputs": [
        {
          "output_type": "stream",
          "name": "stdout",
          "text": [
            "=== Informasi Kendaraan Terparkir ===\n",
            "Plat Nomor: AB 1234 CD\n",
            "Jenis Motor: Matic\n",
            "Status: Terparkir\n",
            "Plat Nomor: AD 5678 EF\n",
            "Jenis Motor: Sport\n",
            "Status: Terparkir\n",
            "\n",
            "=== Motor Keluar dari Parkiran ===\n",
            "Motor dengan plat AB 1234 CD telah keluar dari parkiran.\n",
            "Plat Nomor: AB 1234 CD\n",
            "Jenis Motor: Matic\n",
            "Status: Keluar\n"
          ]
        }
      ]
    }
  ]
}