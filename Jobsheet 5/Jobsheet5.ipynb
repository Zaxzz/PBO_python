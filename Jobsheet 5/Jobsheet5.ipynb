{
  "nbformat": 4,
  "nbformat_minor": 0,
  "metadata": {
    "colab": {
      "provenance": [],
      "authorship_tag": "ABX9TyN5bvGIMWSzXBUi3rcg0Bir",
      "include_colab_link": true
    },
    "kernelspec": {
      "name": "python3",
      "display_name": "Python 3"
    },
    "language_info": {
      "name": "python"
    }
  },
  "cells": [
    {
      "cell_type": "markdown",
      "metadata": {
        "id": "view-in-github",
        "colab_type": "text"
      },
      "source": [
        "<a href=\"https://colab.research.google.com/github/Zaxzz/2025_PBO_TI1B/blob/main/Jobsheet5.ipynb\" target=\"_parent\"><img src=\"https://colab.research.google.com/assets/colab-badge.svg\" alt=\"Open In Colab\"/></a>"
      ]
    },
    {
      "cell_type": "markdown",
      "source": [
        "# JOBSHEET 05: POLIMORFISME DAN MEMAHAMI OVERLOADING/OVERRIDING\n"
      ],
      "metadata": {
        "id": "O25ZBTJ35-9j"
      }
    },
    {
      "cell_type": "markdown",
      "source": [
        "## Praktikum 01: Polimorfisme dengan Inheritance dan Overriding"
      ],
      "metadata": {
        "id": "YHlgXNup52dY"
      }
    },
    {
      "cell_type": "code",
      "execution_count": 8,
      "metadata": {
        "colab": {
          "base_uri": "https://localhost:8080/"
        },
        "id": "0_TgJGqEkCFk",
        "outputId": "2e2181a4-c859-4836-ef39-c2fb20397ef3"
      },
      "outputs": [
        {
          "output_type": "stream",
          "name": "stdout",
          "text": [
            "\n",
            "Aksi Burung:\n",
            "--aksi untuk Elang Jawa--\n",
            "Elang Jawa terbang tinggi melayang di angkasa\n",
            "Elang Jawaberteriak nyaring\n",
            "---------------\n",
            "--aksi untuk Pipit gereja--\n",
            "Pipit gereja terbang cepat di antara pepohonan\n",
            "Pipit gereja berkicau merdu: cit cit\n",
            "---------------\n",
            "--aksi untuk Burung misterius--\n",
            "Burung misterius terbang dengan cara umum.\n",
            "Burung misterius mengeluarkan dengan suara burung.\n",
            "---------------\n"
          ]
        }
      ],
      "source": [
        "class Burung:\n",
        "  def __init__(self, nama):\n",
        "    self.nama = nama\n",
        "  def terbang(self):\n",
        "    print(f\"{self.nama} terbang dengan cara umum.\")\n",
        "  def bersuara(self):\n",
        "    print(f\"{self.nama} mengeluarkan dengan suara burung.\")\n",
        "\n",
        "class Elang(Burung):\n",
        "  def __init__(self, nama, rentang_sayap):\n",
        "    super().__init__(nama)\n",
        "    self.rentang_sayap = rentang_sayap\n",
        "\n",
        "  def terbang(self):\n",
        "    print(f\"{self.nama} terbang tinggi melayang di angkasa\")\n",
        "  def bersuara(self):\n",
        "    print(f\"{self.nama}berteriak nyaring\")\n",
        "\n",
        "class Pipit(Burung):\n",
        "  def __init__(self, nama, warna_bulu):\n",
        "    super().__init__(nama)\n",
        "    self.warna_bulu = warna_bulu\n",
        "  def terbang(self):\n",
        "    print(f\"{self.nama} terbang cepat di antara pepohonan\")\n",
        "  def bersuara(self):\n",
        "    print(f\"{self.nama} berkicau merdu: cit cit\")\n",
        "\n",
        "def demonstrasi_aksi_burung(daftar_burung):\n",
        "  print(\"\\nAksi Burung:\")\n",
        "  for burung in daftar_burung:\n",
        "    print(f\"--aksi untuk {burung.nama}--\")\n",
        "    burung.terbang()\n",
        "    burung.bersuara()\n",
        "    print(\"-\"*15)\n",
        "\n",
        "if __name__ == \"__main__\":\n",
        "  elang_jawa = Elang(\"Elang Jawa\", 1.5)\n",
        "  pipit_gereja = Pipit(\"Pipit gereja\", \"coklat\")\n",
        "  burung_aneh = Burung(\"Burung misterius\")\n",
        "  koleksi_burung = [elang_jawa, pipit_gereja, burung_aneh]\n",
        "\n",
        "  demonstrasi_aksi_burung(koleksi_burung)"
      ]
    },
    {
      "cell_type": "markdown",
      "source": [
        "## Praktikum 02: Polimorfisme dengan Duck Typing"
      ],
      "metadata": {
        "id": "fGHYhhZx6Gew"
      }
    },
    {
      "cell_type": "code",
      "source": [
        "class Kucing:\n",
        "  def bersuara(self):\n",
        "    print(\"Kucing: Meow!\")\n",
        "\n",
        "class Anjing:\n",
        "  def bersuara(self):\n",
        "    print(\"Anjing: guk guk!\")\n",
        "\n",
        "class Bebek:\n",
        "  def bersuara(self):\n",
        "    print(\"Bebek: kwek kwek!\")\n",
        "\n",
        "class Mobil:\n",
        "  def jalankan(self):\n",
        "    print(\"Mobil: Brummm!\")\n",
        "\n",
        "def buat_suara(objek_yang_bisa_bersuara):\n",
        "  try:\n",
        "    objek_yang_bisa_bersuara.bersuara()\n",
        "  except AttributeError:\n",
        "    print(f\"objek {type(objek_yang_bisa_bersuara).__name__} tidak bisa bersuara.\")\n",
        "\n",
        "if __name__ == \"__main__\":\n",
        "  kucing1 = Kucing()\n",
        "  anjing1 = Anjing()\n",
        "  bebek1 = Bebek()\n",
        "  mobil1 = Mobil()\n",
        "\n",
        "  daftar_objek = [kucing1, anjing1, bebek1, mobil1]\n",
        "  print(\"demonstrasi Duck Typing\")\n",
        "  for item in daftar_objek:\n",
        "    buat_suara(item)"
      ],
      "metadata": {
        "colab": {
          "base_uri": "https://localhost:8080/"
        },
        "id": "EGBZ4u4SmExZ",
        "outputId": "3f3310b9-8dad-4591-dd14-b129bbff8283"
      },
      "execution_count": 10,
      "outputs": [
        {
          "output_type": "stream",
          "name": "stdout",
          "text": [
            "demonstrasi Duck Typing\n",
            "Kucing: Meow!\n",
            "Anjing: guk guk!\n",
            "Bebek: kwek kwek!\n",
            "objek Mobil tidak bisa bersuara.\n"
          ]
        }
      ]
    },
    {
      "cell_type": "markdown",
      "source": [
        "## Praktikum 03: Simulasi Overloading dalam Metode Kelas dengan *args"
      ],
      "metadata": {
        "id": "h-u-im7b6Kqg"
      }
    },
    {
      "cell_type": "code",
      "source": [
        "class KalkulatorSederhana:\n",
        "  def __init__(self, nama=\"Kalkulator\"):\n",
        "    self.nama = nama\n",
        "    print(f\"{self.nama} siap digunakan.\")\n",
        "\n",
        "  def tambah(self, *args):\n",
        "    print(f\"\\nmemanggil metode tambah dengan argumen: {args}\")\n",
        "    if not args:\n",
        "      print(\"tidak ada angka untuuk dijumlahkan\")\n",
        "      return 0\n",
        "\n",
        "    total = 0\n",
        "    valid_input = True\n",
        "    for angka in args:\n",
        "      if isinstance(angka, (int,float)):\n",
        "        total += angka\n",
        "      else:\n",
        "        print(f\"peringatan: argumen'{angka}bukan angka dan akan diabaikan\")\n",
        "\n",
        "    if valid_input:\n",
        "      print(f\"Hasil penjumlahan: {total}\")\n",
        "    else:\n",
        "      print(f\"hasil penjumlahan (dengan beberapa input diabaikan): {total}\")\n",
        "    return total\n",
        "\n",
        "if __name__ == \"__main__\":\n",
        "    calc = KalkulatorSederhana(\"calc-01\")\n",
        "    print(\"\\n --- percobaan penjumlahan ---\")\n",
        "    calc.tambah(5,10)\n",
        "    calc.tambah(2,3,5,10)\n",
        "    calc.tambah(100)\n",
        "    calc.tambah()\n",
        "    calc.tambah(1,2,\"tiga\",4,5.5)\n",
        "\n"
      ],
      "metadata": {
        "colab": {
          "base_uri": "https://localhost:8080/"
        },
        "id": "PvSJZfZeqaFN",
        "outputId": "eb218797-e025-4690-cd9b-c202f88e037e"
      },
      "execution_count": 13,
      "outputs": [
        {
          "output_type": "stream",
          "name": "stdout",
          "text": [
            "calc-01 siap digunakan.\n",
            "\n",
            " --- percobaan penjumlahan ---\n",
            "\n",
            "memanggil metode tambah dengan argumen: (5, 10)\n",
            "Hasil penjumlahan: 15\n",
            "\n",
            "memanggil metode tambah dengan argumen: (2, 3, 5, 10)\n",
            "Hasil penjumlahan: 20\n",
            "\n",
            "memanggil metode tambah dengan argumen: (100,)\n",
            "Hasil penjumlahan: 100\n",
            "\n",
            "memanggil metode tambah dengan argumen: ()\n",
            "tidak ada angka untuuk dijumlahkan\n",
            "\n",
            "memanggil metode tambah dengan argumen: (1, 2, 'tiga', 4, 5.5)\n",
            "peringatan: argumen'tigabukan angka dan akan diabaikan\n",
            "Hasil penjumlahan: 12.5\n"
          ]
        }
      ]
    },
    {
      "cell_type": "markdown",
      "source": [
        "## Praktikum 04: Simulasi Overloading dalam Metode Kelas dengan *args dan **kwargs"
      ],
      "metadata": {
        "id": "eZyCDd5I6OOC"
      }
    },
    {
      "cell_type": "code",
      "source": [
        "class DataProcessor:\n",
        "  def __init__(self, processor_id):\n",
        "    self.processor_id = processor_id\n",
        "    print(f\"data processor {self.processor_id} siap.\")\n",
        "\n",
        "  def process(self, *args, **kwargs):\n",
        "    print(f\"\\n-- {self.processor_id} memproses data --\")\n",
        "\n",
        "    if args:\n",
        "      print(\"Argumen posisi diterima:\")\n",
        "      for i, arg in enumerate(args):\n",
        "        print(f\" args[{i}]: {arg} (tipe: {type(arg).__name__}\")\n",
        "    else:\n",
        "      print(\"tidak ada argumen posisi\")\n",
        "\n",
        "    if kwargs:\n",
        "      print(\"argumen kata kunci diterima:\")\n",
        "      for kunci, nilai in kwargs.items():\n",
        "        print(f\"{kunci}: {nilai} (tipe: {type(nilai).__name__}\")\n",
        "    else:\n",
        "      print(\"tidak ada argumen kata kunci\")\n",
        "    print(\"-------------------------------\")\n",
        "\n",
        "if __name__ == \"__main__\":\n",
        "  processor1 = DataProcessor(\"DP-001\")\n",
        "  print(\"\\npanggilan 1: tanpa argumen tambahan\")\n",
        "  processor1.process()\n",
        "  print(\"\\npanggilan 2: hanya argumen posisi\")\n",
        "  processor1.process(100, \"status ok\", 99.9, False)\n",
        "  print(\"\\npanggilan 3: hanya argumen kata kunci\")\n",
        "  processor1.process(user=\"admin\", level=5, mode=\"verbose\")\n",
        "  print(\"\\npanggilan 4: kombinasi argumen posisi dan kata kunci\")\n",
        "  processor1.process(\"Task-1\", \"Task-B\", status=\"running\", priority=\"high\", thread_id=\"54321\")\n",
        "  print(\"\\npanggilan 5: argumen posisi kompleks\")\n",
        "  list_ids = [\"A1\", \"B2\",\"C3\"]\n",
        "  dict_params = {\"timeout\":30, \"retry\": 3}\n",
        "  processor1.process(list_ids, dict_params, owner=\"system\", enabled=True)"
      ],
      "metadata": {
        "colab": {
          "base_uri": "https://localhost:8080/"
        },
        "id": "5OnPDJ9FtQnk",
        "outputId": "a6c5c7f9-3d60-462b-b206-4d6057d3ab12"
      },
      "execution_count": 14,
      "outputs": [
        {
          "output_type": "stream",
          "name": "stdout",
          "text": [
            "data processor DP-001 siap.\n",
            "\n",
            "panggilan 1: tanpa argumen tambahan\n",
            "\n",
            "-- DP-001 memproses data --\n",
            "tidak ada argumen posisi\n",
            "tidak ada argumen kata kunci\n",
            "-------------------------------\n",
            "\n",
            "panggilan 2: hanya argumen posisi\n",
            "\n",
            "-- DP-001 memproses data --\n",
            "Argumen posisi diterima:\n",
            " args[0]: 100 (tipe: int\n",
            " args[1]: status ok (tipe: str\n",
            " args[2]: 99.9 (tipe: float\n",
            " args[3]: False (tipe: bool\n",
            "tidak ada argumen kata kunci\n",
            "-------------------------------\n",
            "\n",
            "panggilan 3: hanya argumen kata kunci\n",
            "\n",
            "-- DP-001 memproses data --\n",
            "tidak ada argumen posisi\n",
            "argumen kata kunci diterima:\n",
            "user: admin (tipe: str\n",
            "level: 5 (tipe: int\n",
            "mode: verbose (tipe: str\n",
            "-------------------------------\n",
            "\n",
            "panggilan 4: kombinasi argumen posisi dan kata kunci\n",
            "\n",
            "-- DP-001 memproses data --\n",
            "Argumen posisi diterima:\n",
            " args[0]: Task-1 (tipe: str\n",
            " args[1]: Task-B (tipe: str\n",
            "argumen kata kunci diterima:\n",
            "status: running (tipe: str\n",
            "priority: high (tipe: str\n",
            "thread_id: 54321 (tipe: str\n",
            "-------------------------------\n",
            "\n",
            "panggilan 5: argumen posisi kompleks\n",
            "\n",
            "-- DP-001 memproses data --\n",
            "Argumen posisi diterima:\n",
            " args[0]: ['A1', 'B2', 'C3'] (tipe: list\n",
            " args[1]: {'timeout': 30, 'retry': 3} (tipe: dict\n",
            "argumen kata kunci diterima:\n",
            "owner: system (tipe: str\n",
            "enabled: True (tipe: bool\n",
            "-------------------------------\n"
          ]
        }
      ]
    },
    {
      "cell_type": "markdown",
      "source": [
        "## Praktikum 05: Kombinasi Polimorfisme (Inheritance & Duck Typing)"
      ],
      "metadata": {
        "id": "k_r59Hlq6Ri5"
      }
    },
    {
      "cell_type": "code",
      "source": [
        "import math\n",
        "\n",
        "class Bentuk:\n",
        "  def nama_bentuk(self):\n",
        "    return \"Bentuk Generik\"\n",
        "\n",
        "  def hitung_luas(self):\n",
        "    raise NotImplementedError(\"Subclass harus mengimplementasikan metode ini\")\n",
        "\n",
        "class Lingkaran(Bentuk):\n",
        "  def __init__(self, radius):\n",
        "    self.radius = radius\n",
        "\n",
        "  def nama_bentuk(self):\n",
        "    return \"Lingkaran\"\n",
        "\n",
        "  def hitung_luas(self):\n",
        "    return math.pi * (self.radius ** 2)\n",
        "\n",
        "class Persegi(Bentuk):\n",
        "  def __init__ (self, sisi):\n",
        "    self.sisi = sisi\n",
        "\n",
        "  def nama_bentuk(self):\n",
        "    return \"Persegi\"\n",
        "\n",
        "  def hitung_luas(self):\n",
        "    return self.sisi * self.sisi\n",
        "\n",
        "class TaplakMeja:\n",
        "  def __init__(self, panjang, lebar):\n",
        "    self.panjang = panjang\n",
        "    self.lebar = lebar\n",
        "\n",
        "  def hitung_luas(self):\n",
        "    return self.panjang * self.lebar\n",
        "\n",
        "  def deskripsi(self):\n",
        "    return f\"Taplak meja dengan {self.panjang} x {self.lebar}\"\n",
        "\n",
        "def tampilkan_info_luas(objek_dengan_luas):\n",
        "  print(\"-\"* 20)\n",
        "  try:\n",
        "    luas = objek_dengan_luas.hitung_luas()\n",
        "    try:\n",
        "      nama = objek_dengan_luas.nama_bentuk()\n",
        "    except AttributeError:\n",
        "      nama = type(objek_dengan_luas).__name__\n",
        "    print(f\"objek:{nama}\")\n",
        "    print(f\"luas: {luas:.2f}\")\n",
        "  except AttributeError:\n",
        "    print(f\"objek{type(objek_dengan_luas).__name__}tidak dapat dihitung luasnya (metode tidak ditemukan)\")\n",
        "  except NotImplementedError:\n",
        "    print(f\"metode 'hitung_luas' belum diimplementasikan dalam {type(objek_dengan_luas).__name__}\")\n",
        "\n",
        "if __name__ == \"__main__\":\n",
        "    lingkaran1 = Lingkaran(7)\n",
        "    persegi1 = Persegi(5)\n",
        "    taplak1 = TaplakMeja(1.5,0.8)\n",
        "    bentuk_dasar = Bentuk()\n",
        "    string_biasa=\"ini string\"\n",
        "    daftar_item = [lingkaran1,persegi1, taplak1, bentuk_dasar,string_biasa]\n",
        "    print(\"menampilkan info luas (polimorfisme campuran):\")\n",
        "    for item in daftar_item:\n",
        "      tampilkan_info_luas(item)"
      ],
      "metadata": {
        "colab": {
          "base_uri": "https://localhost:8080/"
        },
        "id": "cImdap1jxF4u",
        "outputId": "80443d1c-5c5a-4a50-9f19-79b08124de63"
      },
      "execution_count": 19,
      "outputs": [
        {
          "output_type": "stream",
          "name": "stdout",
          "text": [
            "menampilkan info luas (polimorfisme campuran):\n",
            "--------------------\n",
            "objek:Lingkaran\n",
            "luas: 153.94\n",
            "--------------------\n",
            "objek:Persegi\n",
            "luas: 25.00\n",
            "--------------------\n",
            "objek:TaplakMeja\n",
            "luas: 1.20\n",
            "--------------------\n",
            "metode 'hitung_luas' belum diimplementasikan dalam Bentuk\n",
            "--------------------\n",
            "objekstrtidak dapat dihitung luasnya (metode tidak ditemukan)\n"
          ]
        }
      ]
    },
    {
      "cell_type": "markdown",
      "source": [
        "## Praktikum 06: Kontrol Perilaku Polimorfik dengan isinstance()"
      ],
      "metadata": {
        "id": "3vZjefWj6W3X"
      }
    },
    {
      "cell_type": "code",
      "source": [
        "class Burung:\n",
        "  def __init__(self, nama):\n",
        "    self.nama = nama\n",
        "  def terbang(self):\n",
        "    print(f\"{self.nama} terbang dengan cara umum\")\n",
        "  def bersuara (self):\n",
        "    print(f\"{self.nama} mengeluarkan suara burung.\")\n",
        "\n",
        "class Elang (Burung):\n",
        "  def __init__ (self, nama, rentang_sayap):\n",
        "    super().__init__(nama)\n",
        "    self.rentang_sayap = rentang_sayap\n",
        "  def terbang(self):\n",
        "    print(f\"{self.nama}terbang tinggi melayang angkasa.\")\n",
        "  def bersuara (self):\n",
        "    print(f\"{self.nama} berteriak nyaring\")\n",
        "  def berburu(self):\n",
        "    print(f\"{self.nama} sedang mencari mangsa dari ketinggian\")\n",
        "\n",
        "class Pipit(Burung):\n",
        "  def __init__(self, nama, warna_bulu):\n",
        "    super().__init__(nama)\n",
        "    self.warna_bulu = warna_bulu\n",
        "  def terbang(self):\n",
        "    print(f\"{self.nama} terbang cepat di antara pepohonan.\")\n",
        "  def bersuara(self):\n",
        "    print(f\"{self.nama} berkicau merdu: cit cit\")\n",
        "  def membangun_sarang(self):\n",
        "    print(f\"{self.nama} sedang mengumpulkan ranting untuk sarang\")\n",
        "\n",
        "def interaksi_dengan_burung(burung):\n",
        "  print(f\"\\n--berinteraksi dengan{type(burung).__name__}: {getattr(burung, 'nama', 'objek tidak dikenal')}--\")\n",
        "  if isinstance(burung, Burung):\n",
        "    burung.terbang()\n",
        "    burung.bersuara()\n",
        "    if isinstance(burung, Elang):\n",
        "      print(\"->ini adalah elang\")\n",
        "      burung.berburu()\n",
        "    elif isinstance(burung, Pipit):\n",
        "      print(\"->ini adalah pipit\")\n",
        "      burung.membangun_sarang()\n",
        "    else:\n",
        "      print(\"->ini adalah burung umum\")\n",
        "  else:\n",
        "    print(\"->objek ini bukan termasuk jenis burung\")\n",
        "    print(\"-\"*25)\n",
        "\n",
        "if __name__ == \"__main__\":\n",
        "  elang_sumatra = Elang(\"Elang Sumatra\", 1.8)\n",
        "  pipit_rumah = Pipit(\"Pipit Rumah\", \"Abu-abu\")\n",
        "  merak = Burung(\"Merak\")\n",
        "  kucing_tetangga = \"Meong\"\n",
        "  koleksi_makhluk = [elang_sumatra, pipit_rumah, merak, kucing_tetangga]\n",
        "\n",
        "  for makhluk in koleksi_makhluk:\n",
        "    interaksi_dengan_burung(makhluk)"
      ],
      "metadata": {
        "colab": {
          "base_uri": "https://localhost:8080/"
        },
        "id": "0LLnA0kK0ej8",
        "outputId": "01683567-1514-4847-fdaf-1b35b3e5465d"
      },
      "execution_count": 23,
      "outputs": [
        {
          "output_type": "stream",
          "name": "stdout",
          "text": [
            "\n",
            "--berinteraksi denganElang: Elang Sumatra--\n",
            "Elang Sumatraterbang tinggi melayang angkasa.\n",
            "Elang Sumatra berteriak nyaring\n",
            "->ini adalah elang\n",
            "Elang Sumatra sedang mencari mangsa dari ketinggian\n",
            "\n",
            "--berinteraksi denganPipit: Pipit Rumah--\n",
            "Pipit Rumah terbang cepat di antara pepohonan.\n",
            "Pipit Rumah berkicau merdu: cit cit\n",
            "->ini adalah pipit\n",
            "Pipit Rumah sedang mengumpulkan ranting untuk sarang\n",
            "\n",
            "--berinteraksi denganBurung: Merak--\n",
            "Merak terbang dengan cara umum\n",
            "Merak mengeluarkan suara burung.\n",
            "->ini adalah burung umum\n",
            "\n",
            "--berinteraksi denganstr: objek tidak dikenal--\n",
            "->objek ini bukan termasuk jenis burung\n",
            "-------------------------\n"
          ]
        }
      ]
    },
    {
      "cell_type": "markdown",
      "source": [
        "## Tugas"
      ],
      "metadata": {
        "id": "GIm2dFyf7s9s"
      }
    },
    {
      "cell_type": "code",
      "source": [
        "class Komputer:\n",
        "    def __init__(self, merk, processor, ram_gb):\n",
        "        self.merk = merk\n",
        "        self.processor = processor\n",
        "        self.ram_gb = ram_gb\n",
        "\n",
        "    def info_spesifikasi(self):\n",
        "        print(f\"Merk: {self.merk}\")\n",
        "        print(f\"Processor: {self.processor}\")\n",
        "        print(f\"RAM: {self.ram_gb} GB\")\n",
        "\n",
        "    def jalankan_aplikasi(self, nama_aplikasi):\n",
        "        print(f\"{self.merk} menjalankan aplikasi: {nama_aplikasi}...\")\n",
        "\n",
        "    def upgrade_ram(self, tambahan_gb, tipe_ram=\"DDR4\"):\n",
        "        self.ram_gb += tambahan_gb\n",
        "        print(f\"RAM {self.merk} diupgrade sebesar {tambahan_gb} GB (Tipe: {tipe_ram}).\")\n",
        "        print(f\"Total RAM sekarang: {self.ram_gb} GB\")\n",
        "\n",
        "\n",
        "class Laptop(Komputer):\n",
        "    def __init__(self, merk, processor, ram_gb, ukuran_layar_inch, berat_kg):\n",
        "        super().__init__(merk, processor, ram_gb)\n",
        "        self.ukuran_layar_inch = ukuran_layar_inch\n",
        "        self.berat_kg = berat_kg\n",
        "\n",
        "    def info_spesifikasi(self):\n",
        "        super().info_spesifikasi()\n",
        "        print(f\"Ukuran Layar: {self.ukuran_layar_inch} inch\")\n",
        "        print(f\"Berat: {self.berat_kg} Kg\")\n",
        "\n",
        "\n",
        "class Desktop(Komputer):\n",
        "    def __init__(self, merk, processor, ram_gb, jenis_casing, monitor_external):\n",
        "        super().__init__(merk, processor, ram_gb)\n",
        "        self.jenis_casing = jenis_casing\n",
        "        self.monitor_external = monitor_external\n",
        "\n",
        "    def info_spesifikasi(self):\n",
        "        super().info_spesifikasi()\n",
        "        print(f\"Jenis Casing: {self.jenis_casing}\")\n",
        "        print(f\"Monitor External: {'Ya' if self.monitor_external else 'Tidak'}\")\n",
        "\n",
        "\n",
        "# Demonstrasi Polimorfisme\n",
        "def cetak_semua_spesifikasi(daftar_komputer):\n",
        "    for komputer in daftar_komputer:\n",
        "        komputer.info_spesifikasi()\n",
        "        print(\"-\" * 30)\n",
        "\n",
        "\n",
        "# Kode utama\n",
        "if __name__ == \"__main__\":\n",
        "    laptop1 = Laptop(\"Asus\", \"Intel i5\", 8, 14.0, 1.5)\n",
        "    desktop1 = Desktop(\"Lenovo\", \"AMD Ryzen 5\", 16, \"Tower\", True)\n",
        "\n",
        "    daftar_komputer = [laptop1, desktop1]\n",
        "\n",
        "    print(\"=== Info Semua Komputer ===\")\n",
        "    cetak_semua_spesifikasi(daftar_komputer)\n",
        "\n",
        "    print(\"\\n=== Jalankan Aplikasi ===\")\n",
        "    laptop1.jalankan_aplikasi(\"Google Chrome\")\n",
        "\n",
        "    print(\"\\n=== Upgrade RAM ===\")\n",
        "    desktop1.upgrade_ram(4)\n",
        "    desktop1.upgrade_ram(8, \"DDR5\")\n"
      ],
      "metadata": {
        "colab": {
          "base_uri": "https://localhost:8080/"
        },
        "id": "EaimukQS1-kZ",
        "outputId": "237a41fc-d903-49e7-cb15-eaf3e0ae64d8"
      },
      "execution_count": 26,
      "outputs": [
        {
          "output_type": "stream",
          "name": "stdout",
          "text": [
            "=== Info Semua Komputer ===\n",
            "Merk: Asus\n",
            "Processor: Intel i5\n",
            "RAM: 8 GB\n",
            "Ukuran Layar: 14.0 inch\n",
            "Berat: 1.5 Kg\n",
            "------------------------------\n",
            "Merk: Lenovo\n",
            "Processor: AMD Ryzen 5\n",
            "RAM: 16 GB\n",
            "Jenis Casing: Tower\n",
            "Monitor External: Ya\n",
            "------------------------------\n",
            "\n",
            "=== Jalankan Aplikasi ===\n",
            "Asus menjalankan aplikasi: Google Chrome...\n",
            "\n",
            "=== Upgrade RAM ===\n",
            "RAM Lenovo diupgrade sebesar 4 GB (Tipe: DDR4).\n",
            "Total RAM sekarang: 20 GB\n",
            "RAM Lenovo diupgrade sebesar 8 GB (Tipe: DDR5).\n",
            "Total RAM sekarang: 28 GB\n"
          ]
        }
      ]
    }
  ]
}